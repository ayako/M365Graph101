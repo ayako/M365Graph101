{
 "cells": [
  {
   "cell_type": "markdown",
   "id": "b00d1f91",
   "metadata": {},
   "source": [
    "# Microsoft 365 Graph による情報取得 (C#)\n",
    "- MSAL の Device Code Flow でサインイン\n",
    "- Microsoft Graph のエンドポイント（/me、OneDrive 最近使用ファイル、Teams、チャット、予定表、送信済みメール）を呼び出します"
   ]
  },
  {
   "cell_type": "code",
   "execution_count": null,
   "id": "f2e64a1d",
   "metadata": {
    "language_info": {
     "name": "polyglot-notebook"
    },
    "polyglot_notebook": {
     "kernelName": "csharp"
    }
   },
   "outputs": [],
   "source": [
    "var clientId = \"CLIENT_ID\";\n",
    "var tenantId = \"TENANT_ID\";"
   ]
  },
  {
   "cell_type": "code",
   "execution_count": null,
   "id": "0d426434",
   "metadata": {
    "language_info": {
     "name": "polyglot-notebook"
    },
    "polyglot_notebook": {
     "kernelName": "csharp"
    }
   },
   "outputs": [],
   "source": [
    "// 依存パッケージをインストール\n",
    "#r \"nuget: Microsoft.Identity.Client\"\n",
    "#r \"nuget: Microsoft.Graph\""
   ]
  },
  {
   "cell_type": "code",
   "execution_count": null,
   "id": "5eebe97c",
   "metadata": {
    "language_info": {
     "name": "polyglot-notebook"
    },
    "polyglot_notebook": {
     "kernelName": "csharp"
    }
   },
   "outputs": [],
   "source": [
    "using System;\n",
    "using System.Threading.Tasks;\n",
    "using System.Net.Http;\n",
    "using System.Net.Http.Headers;\n",
    "using System.Text.Json;\n",
    "\n",
    "using Microsoft.Identity.Client;\n",
    "using Microsoft.Graph;"
   ]
  },
  {
   "cell_type": "code",
   "execution_count": null,
   "id": "ba10849c",
   "metadata": {
    "language_info": {
     "name": "polyglot-notebook"
    },
    "polyglot_notebook": {
     "kernelName": "csharp"
    }
   },
   "outputs": [],
   "source": [
    "// サインインのテスト\n",
    "var scopes = new[] {\n",
    "    \"Files.Read\",\n",
    "};\n",
    "\n",
    "// Device Code Flow でトークン取得\n",
    "var publicClient = PublicClientApplicationBuilder\n",
    "    .Create(clientId)\n",
    "    .WithTenantId(tenantId)\n",
    "    .Build();\n",
    "\n",
    "var authResult = await publicClient.AcquireTokenWithDeviceCode(scopes, deviceCodeResult =>\n",
    "{\n",
    "    Console.WriteLine(deviceCodeResult.Message);\n",
    "    return Task.CompletedTask;\n",
    "}).ExecuteAsync();\n",
    "\n",
    "if (authResult != null)\n",
    "{\n",
    "    Console.WriteLine(\"サインインに成功しました。\");\n",
    "    if (authResult.Account != null)\n",
    "    {\n",
    "        Console.WriteLine($\"ユーザー: {authResult.Account.Username}\");\n",
    "    }\n",
    "    Console.WriteLine($\"アクセストークンの有効期限: {authResult.ExpiresOn} (UTC)\");\n",
    "}\n",
    "else\n",
    "{\n",
    "    Console.WriteLine(\"サインインに失敗しました。\");\n",
    "}\n"
   ]
  },
  {
   "cell_type": "code",
   "execution_count": null,
   "id": "a89382f8",
   "metadata": {
    "language_info": {
     "name": "polyglot-notebook"
    },
    "polyglot_notebook": {
     "kernelName": "csharp"
    }
   },
   "outputs": [],
   "source": [
    "// 実行用にスコープを指定してトークン取得\n",
    "var scopes = new[] {\n",
    "    \"Files.Read\",\n",
    "    \"User.Read\",\n",
    "    \"Mail.Read\",\n",
    "    \"Calendars.Read\",\n",
    "    \"Chat.Read\",\n",
    "    \"Channel.ReadBasic.All\",\n",
    "    \"ChannelMessage.Read.All\",\n",
    "    \"Team.ReadBasic.All\",\n",
    "};\n",
    "\n",
    "// Device Code Flow でトークン取得\n",
    "var publicClient = PublicClientApplicationBuilder\n",
    "    .Create(clientId)\n",
    "    .WithTenantId(tenantId)\n",
    "    .Build();\n",
    "\n",
    "var authResult = await publicClient.AcquireTokenWithDeviceCode(scopes, deviceCodeResult =>\n",
    "{\n",
    "    Console.WriteLine(deviceCodeResult.Message);\n",
    "    return Task.CompletedTask;\n",
    "}).ExecuteAsync();\n",
    "\n",
    "if (authResult != null)\n",
    "{\n",
    "    Console.WriteLine(\"サインインに成功しました。\");\n",
    "    if (authResult.Account != null)\n",
    "    {\n",
    "        Console.WriteLine($\"ユーザー: {authResult.Account.Username}\");\n",
    "    }\n",
    "    Console.WriteLine($\"アクセストークンの有効期限: {authResult.ExpiresOn} (UTC)\");\n",
    "}\n",
    "else\n",
    "{\n",
    "    Console.WriteLine(\"サインインに失敗しました。\");\n",
    "}\n"
   ]
  },
  {
   "cell_type": "code",
   "execution_count": null,
   "id": "ed1e8197",
   "metadata": {
    "language_info": {
     "name": "polyglot-notebook"
    },
    "polyglot_notebook": {
     "kernelName": "csharp"
    }
   },
   "outputs": [],
   "source": [
    "// HttpClient の初期化とアクセストークンの設定\n",
    "var httpClient = new HttpClient();\n",
    "httpClient.DefaultRequestHeaders.Authorization = new AuthenticationHeaderValue(\"Bearer\", authResult.AccessToken);"
   ]
  },
  {
   "cell_type": "code",
   "execution_count": null,
   "id": "c5ef1fb7",
   "metadata": {
    "language_info": {
     "name": "polyglot-notebook"
    },
    "polyglot_notebook": {
     "kernelName": "csharp"
    }
   },
   "outputs": [],
   "source": [
    "// OneDrive 最近使用ファイル\n",
    "async Task GetRecentFilesAsync(HttpClient client)\n",
    "{\n",
    "    var response = await client.GetAsync(\"https://graph.microsoft.com/v1.0/me/drive/recent\");\n",
    "    response.EnsureSuccessStatusCode();\n",
    "    var json = await response.Content.ReadAsStringAsync();\n",
    "    using var doc = JsonDocument.Parse(json);\n",
    "    Console.WriteLine(\"[OneDrive Recent Files]\");\n",
    "    foreach (var item in doc.RootElement.GetProperty(\"value\").EnumerateArray())\n",
    "    {\n",
    "        var name = item.GetProperty(\"name\").GetString();\n",
    "        var webUrl = item.GetProperty(\"webUrl\").GetString();\n",
    "        Console.WriteLine($\"{name} - {webUrl}\");\n",
    "    }\n",
    "}\n",
    "\n",
    "// 実行\n",
    "await GetRecentFilesAsync(httpClient);"
   ]
  },
  {
   "cell_type": "code",
   "execution_count": null,
   "metadata": {
    "language_info": {
     "name": "polyglot-notebook"
    },
    "polyglot_notebook": {
     "kernelName": "csharp"
    }
   },
   "outputs": [],
   "source": [
    "// Teams チャネルメッセージ＆リプライ\n",
    "async Task GetTeamsChannelMessagesAsync(HttpClient client)\n",
    "{\n",
    "    // 所属チーム一覧取得\n",
    "    var teamsRes = await client.GetAsync(\"https://graph.microsoft.com/v1.0/me/joinedTeams\");\n",
    "    teamsRes.EnsureSuccessStatusCode();\n",
    "    var teamsJson = await teamsRes.Content.ReadAsStringAsync();\n",
    "    using var teamsDoc = JsonDocument.Parse(teamsJson);\n",
    "    foreach (var team in teamsDoc.RootElement.GetProperty(\"value\").EnumerateArray())\n",
    "    {\n",
    "        var teamId = team.GetProperty(\"id\").GetString();\n",
    "        var teamName = team.GetProperty(\"displayName\").GetString();\n",
    "        Console.WriteLine($\"[Team: {teamName}]\");\n",
    "\n",
    "        // チャネル一覧\n",
    "        var channelsRes = await client.GetAsync($\"https://graph.microsoft.com/v1.0/teams/{teamId}/channels\");\n",
    "        channelsRes.EnsureSuccessStatusCode();\n",
    "        var channelsJson = await channelsRes.Content.ReadAsStringAsync();\n",
    "        using var channelsDoc = JsonDocument.Parse(channelsJson);\n",
    "        foreach (var channel in channelsDoc.RootElement.GetProperty(\"value\").EnumerateArray())\n",
    "        {\n",
    "            var channelId = channel.GetProperty(\"id\").GetString();\n",
    "            var channelName = channel.GetProperty(\"displayName\").GetString();\n",
    "            Console.WriteLine($\"Channel: {channelName}\");\n",
    "            // メッセージ一覧\n",
    "            var messagesRes = await client.GetAsync($\"https://graph.microsoft.com/v1.0/teams/{teamId}/channels/{channelId}/messages\");\n",
    "            messagesRes.EnsureSuccessStatusCode();\n",
    "            var messagesJson = await messagesRes.Content.ReadAsStringAsync();\n",
    "            using var messagesDoc = JsonDocument.Parse(messagesJson);\n",
    "            foreach (var msg in messagesDoc.RootElement.GetProperty(\"value\").EnumerateArray())\n",
    "            {\n",
    "                var msgBody = msg.GetProperty(\"body\").GetProperty(\"content\").GetString();\n",
    "                if (msgBody != null && msgBody.Contains(\"<systemEventMessage/>\"))\n",
    "                {\n",
    "                    break;\n",
    "                }\n",
    "                Console.WriteLine($\"  Message: {msgBody}\");\n",
    "\n",
    "                // リプライ一覧\n",
    "                if (msg.TryGetProperty(\"replies\", out var replies) && replies.ValueKind == JsonValueKind.Array)\n",
    "                {\n",
    "                    foreach (var reply in replies.EnumerateArray())\n",
    "                    {\n",
    "                        var replyBody = reply.GetProperty(\"body\").GetProperty(\"content\").GetString();\n",
    "                        if (replyBody != null && replyBody.Contains(\"<systemEventMessage/>\"))\n",
    "                        {\n",
    "                            break;\n",
    "                        }\n",
    "                        Console.WriteLine($\"    Reply: {replyBody}\");\n",
    "                    }\n",
    "                }\n",
    "            }\n",
    "        }\n",
    "    }\n",
    "}\n",
    "\n",
    "// 実行\n",
    "await GetTeamsChannelMessagesAsync(httpClient);"
   ]
  },
  {
   "cell_type": "code",
   "execution_count": null,
   "id": "c814299e",
   "metadata": {
    "language_info": {
     "name": "polyglot-notebook"
    },
    "polyglot_notebook": {
     "kernelName": "csharp"
    }
   },
   "outputs": [],
   "source": [
    "// Teams チャット\n",
    "\n",
    "// チャットのメッセージを表示\n",
    "async Task PrintChatMessages(HttpClient client, string chatId)\n",
    "{\n",
    "    var msgsResponse = await client.GetAsync($\"https://graph.microsoft.com/v1.0/chats/{chatId}/messages\");\n",
    "    msgsResponse.EnsureSuccessStatusCode();\n",
    "    var json = await msgsResponse.Content.ReadAsStringAsync();\n",
    "    using var msgsDoc = JsonDocument.Parse(json);\n",
    "\n",
    "    if (msgsDoc.RootElement.TryGetProperty(\"value\", out var msgsArr) && msgsArr.ValueKind == JsonValueKind.Array)\n",
    "    {\n",
    "        foreach (var msg in msgsArr.EnumerateArray())\n",
    "        {\n",
    "            var fromInfo = msg.GetProperty(\"from\");\n",
    "            if (fromInfo.ValueKind == JsonValueKind.Object)\n",
    "            {\n",
    "                var sender = fromInfo.GetProperty(\"user\").GetProperty(\"displayName\").GetString() ?? \"Unknown\";\n",
    "                var content = msg.GetProperty(\"body\").GetProperty(\"content\").GetString();\n",
    "                var timestamp = msg.GetProperty(\"createdDateTime\").GetDateTime();\n",
    "                Console.WriteLine($\"{timestamp} | {sender}: {content}\");\n",
    "            }\n",
    "        }\n",
    "    }\n",
    "}\n",
    "\n",
    "// Teams 最近のチャット\n",
    "async Task GetRecentChatsAsync(HttpClient client)\n",
    "{\n",
    "    var response = await client.GetAsync(\"https://graph.microsoft.com/v1.0/me/chats\");\n",
    "    response.EnsureSuccessStatusCode();\n",
    "    var json = await response.Content.ReadAsStringAsync();\n",
    "    using var doc = JsonDocument.Parse(json);\n",
    "    Console.WriteLine(\"[Teams Recent Chats]\");\n",
    "    foreach (var chat in doc.RootElement.GetProperty(\"value\").EnumerateArray())\n",
    "    {\n",
    "        var chatId = chat.GetProperty(\"id\").GetString();\n",
    "        var topic = chat.TryGetProperty(\"topic\", out var t) ? t.GetString() : \"(No topic)\";\n",
    "        Console.WriteLine($\"Chat: {topic} (ID: {chatId})\");\n",
    "        await PrintChatMessages(client, chatId);\n",
    "        Console.WriteLine(\"----------\");\n",
    "    }\n",
    "}\n",
    "\n",
    "// 実行\n",
    "await GetRecentChatsAsync(httpClient);"
   ]
  },
  {
   "cell_type": "code",
   "execution_count": null,
   "metadata": {
    "language_info": {
     "name": "polyglot-notebook"
    },
    "polyglot_notebook": {
     "kernelName": "csharp"
    }
   },
   "outputs": [],
   "source": [
    "// Outlook 会議一覧\n",
    "async Task GetOutlookEventsAsync(HttpClient client)\n",
    "{\n",
    "    var response = await client.GetAsync(\"https://graph.microsoft.com/v1.0/me/events\");\n",
    "    response.EnsureSuccessStatusCode();\n",
    "    var json = await response.Content.ReadAsStringAsync();\n",
    "    using var doc = JsonDocument.Parse(json);\n",
    "    Console.WriteLine(\"[Outlook Events]\");\n",
    "    foreach (var ev in doc.RootElement.GetProperty(\"value\").EnumerateArray())\n",
    "    {\n",
    "        var subject = ev.GetProperty(\"subject\").GetString();\n",
    "        var start = ev.GetProperty(\"start\").GetProperty(\"dateTime\").GetString();\n",
    "        var end = ev.GetProperty(\"end\").GetProperty(\"dateTime\").GetString();\n",
    "        Console.WriteLine($\"{subject}: {start} - {end}\");\n",
    "    }\n",
    "}\n",
    "\n",
    "// 実行\n",
    "await GetOutlookEventsAsync(httpClient);"
   ]
  },
  {
   "cell_type": "code",
   "execution_count": null,
   "metadata": {
    "language_info": {
     "name": "polyglot-notebook"
    },
    "polyglot_notebook": {
     "kernelName": "csharp"
    }
   },
   "outputs": [],
   "source": [
    "// Outlook 送信済みメール\n",
    "async Task GetOutlookSentMailsAsync(HttpClient client)\n",
    "{\n",
    "    var response = await client.GetAsync(\"https://graph.microsoft.com/v1.0/me/mailFolders/sentitems/messages\");\n",
    "    response.EnsureSuccessStatusCode();\n",
    "    var json = await response.Content.ReadAsStringAsync();\n",
    "    using var doc = JsonDocument.Parse(json);\n",
    "    Console.WriteLine(\"[Outlook Sent Mails]\");\n",
    "    foreach (var mail in doc.RootElement.GetProperty(\"value\").EnumerateArray())\n",
    "    {\n",
    "        var subject = mail.GetProperty(\"subject\").GetString();\n",
    "        var to = mail.GetProperty(\"toRecipients\").EnumerateArray().Select(r => r.GetProperty(\"emailAddress\").GetProperty(\"address\").GetString());\n",
    "        Console.WriteLine($\"To: {string.Join(\", \", to)} | Subject: {subject}\");\n",
    "    }\n",
    "}\n",
    "\n",
    "// 実行\n",
    "await GetOutlookSentMailsAsync(httpClient);"
   ]
  }
 ],
 "metadata": {
  "kernelspec": {
   "display_name": ".NET (C#)",
   "language": "C#",
   "name": ".net-csharp"
  },
  "language_info": {
   "name": "polyglot-notebook"
  },
  "polyglot_notebook": {
   "kernelInfo": {
    "defaultKernelName": "csharp",
    "items": [
     {
      "aliases": [],
      "name": "csharp"
     }
    ]
   }
  }
 },
 "nbformat": 4,
 "nbformat_minor": 5
}
