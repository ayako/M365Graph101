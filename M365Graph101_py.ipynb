{
 "cells": [
  {
   "cell_type": "markdown",
   "id": "7090733d",
   "metadata": {},
   "source": [
    "# Microsoft 365 Graph による情報取得 (Python)\n",
    "- MSAL の Device Code Flow でサインイン\n",
    "- Microsoft Graph のエンドポイント（/me、OneDrive 最近使用ファイル、Teams、チャット、予定表、送信済みメール）を呼び出します"
   ]
  },
  {
   "cell_type": "code",
   "execution_count": null,
   "id": "2e283799",
   "metadata": {},
   "outputs": [],
   "source": [
    "clientId = \"YOUR_CLIENT_ID\";\n",
    "tenantId = \"YOUR_TENANT_ID\";"
   ]
  },
  {
   "cell_type": "code",
   "execution_count": null,
   "id": "96b44773",
   "metadata": {},
   "outputs": [],
   "source": [
    "# 依存パッケージをインストール\n",
    "%pip install msal requests"
   ]
  },
  {
   "cell_type": "code",
   "execution_count": null,
   "id": "27d91914",
   "metadata": {},
   "outputs": [],
   "source": [
    "import msal\n",
    "import requests\n",
    "import json\n",
    "from pprint import pprint\n",
    "import datetime"
   ]
  },
  {
   "cell_type": "code",
   "execution_count": null,
   "id": "c3f553ef",
   "metadata": {},
   "outputs": [],
   "source": [
    "# テスト\n",
    "scopes = [\"User.Read\"]\n",
    "\n",
    "authority = f\"https://login.microsoftonline.com/{tenant_id}\"\n",
    "app = msal.PublicClientApplication(client_id, authority=authority)\n",
    "\n",
    "# Device Code Flow でトークン取得\n",
    "flow = app.initiate_device_flow(scopes=scopes)\n",
    "if \"message\" in flow:\n",
    "    print(flow[\"message\"])\n",
    "else:\n",
    "    raise ValueError(f\"Failed to initiate device flow: {flow}\")\n",
    "\n",
    "result = app.acquire_token_by_device_flow(flow)\n",
    "\n",
    "if \"access_token\" in result:\n",
    "    access_token = result[\"access_token\"]\n",
    "    print(\"サインインに成功しました。\")\n",
    "\n",
    "    id_claims = result.get(\"id_token_claims\", {})\n",
    "    preferred_username = id_claims.get(\"preferred_username\") or id_claims.get(\"upn\")\n",
    "    if preferred_username:\n",
    "        print(f\"ユーザー: {preferred_username}\")\n",
    "    expires_in = result.get(\"expires_in\")\n",
    "    if expires_in:\n",
    "        exp_at = datetime.datetime.now(datetime.timezone.utc) + datetime.timedelta(seconds=expires_in)\n",
    "        print(f\"アクセストークンの有効期限（UTC）: {exp_at.strftime('%Y-%m-%dT%H:%M:%SZ')}\")\n",
    "else:\n",
    "    print(\"サインインに失敗しました。\")\n",
    "    pprint(result)"
   ]
  },
  {
   "cell_type": "code",
   "execution_count": null,
   "id": "f10e9fd2",
   "metadata": {},
   "outputs": [],
   "source": [
    "# スコープ\n",
    "scopes = [\n",
    "    \"Files.Read\",\n",
    "    \"User.Read\",\n",
    "    \"Mail.Read\",\n",
    "    \"Calendars.Read\",\n",
    "    \"Chat.Read\",\n",
    "    \"Channel.ReadBasic.All\",\n",
    "    \"ChannelMessage.Read.All\",\n",
    "    \"Team.ReadBasic.All\",\n",
    "]\n",
    "\n",
    "authority = f\"https://login.microsoftonline.com/{tenant_id}\"\n",
    "app = msal.PublicClientApplication(client_id, authority=authority)\n",
    "\n",
    "# Device Code Flow でトークン取得\n",
    "flow = app.initiate_device_flow(scopes=scopes)\n",
    "if \"message\" in flow:\n",
    "    print(flow[\"message\"])\n",
    "else:\n",
    "    raise ValueError(f\"Failed to initiate device flow: {flow}\")\n",
    "\n",
    "result = app.acquire_token_by_device_flow(flow)\n",
    "\n",
    "if \"access_token\" in result:\n",
    "    access_token = result[\"access_token\"]\n",
    "    print(\"サインインに成功しました。\")\n",
    "\n",
    "    id_claims = result.get(\"id_token_claims\", {})\n",
    "    preferred_username = id_claims.get(\"preferred_username\") or id_claims.get(\"upn\")\n",
    "    if preferred_username:\n",
    "        print(f\"ユーザー: {preferred_username}\")\n",
    "    expires_in = result.get(\"expires_in\")\n",
    "    if expires_in:\n",
    "        exp_at = datetime.datetime.now(datetime.timezone.utc) + datetime.timedelta(seconds=expires_in)\n",
    "        print(f\"アクセストークンの有効期限（UTC）: {exp_at.strftime('%Y-%m-%dT%H:%M:%SZ')}\")\n",
    "else:\n",
    "    print(\"サインインに失敗しました。\")\n",
    "    pprint(result)"
   ]
  },
  {
   "cell_type": "code",
   "execution_count": null,
   "id": "e525558b",
   "metadata": {},
   "outputs": [],
   "source": [
    "# セッション作成\n",
    "session = requests.Session()\n",
    "session.headers.update({\"Authorization\": f\"Bearer {access_token}\"})"
   ]
  },
  {
   "cell_type": "code",
   "execution_count": null,
   "id": "d9eda0cf",
   "metadata": {},
   "outputs": [],
   "source": [
    "# OneDrive 最近使用ファイル\n",
    "def get_recent_files(session):\n",
    "    r = session.get(\"https://graph.microsoft.com/v1.0/me/drive/recent\")\n",
    "    r.raise_for_status()\n",
    "    data = r.json()\n",
    "    print(\"[OneDrive Recent Files]\")\n",
    "    for item in data.get('value', []):\n",
    "        print(f\"{item.get('name')} - {item.get('webUrl')}\")\n",
    "\n",
    "# 実行\n",
    "get_recent_files(session)"
   ]
  },
  {
   "cell_type": "code",
   "execution_count": null,
   "id": "6e3b2987",
   "metadata": {},
   "outputs": [],
   "source": [
    "# Teams: チーム、チャネル、メッセージ\n",
    "def get_teams_channel_messages(session):\n",
    "    r = session.get(\"https://graph.microsoft.com/v1.0/me/joinedTeams\")\n",
    "    r.raise_for_status()\n",
    "    teams = r.json().get('value', [])\n",
    "    for team in teams:\n",
    "        team_id = team.get('id')\n",
    "        team_name = team.get('displayName')\n",
    "        print(f\"[Team: {team_name}]\")\n",
    "        r_ch = session.get(f\"https://graph.microsoft.com/v1.0/teams/{team_id}/channels\")\n",
    "        if r_ch.status_code == 404:\n",
    "            print(\"  チャネル情報が取得できません（権限不足または API 未対応）\")\n",
    "            continue\n",
    "        r_ch.raise_for_status()\n",
    "        channels = r_ch.json().get('value', [])\n",
    "        for ch in channels:\n",
    "            channel_id = ch.get('id')\n",
    "            channel_name = ch.get('displayName')\n",
    "            print(f\" Channel: {channel_name}\")\n",
    "            r_msgs = session.get(f\"https://graph.microsoft.com/v1.0/teams/{team_id}/channels/{channel_id}/messages\")\n",
    "            if r_msgs.status_code == 404:\n",
    "                print(\"  メッセージ取得エンドポイントが利用できません（権限不足の可能性）\")\n",
    "                continue\n",
    "            r_msgs.raise_for_status()\n",
    "            messages = r_msgs.json().get('value', [])\n",
    "            for m in messages:\n",
    "                body = m.get('body', {}).get('content')\n",
    "                print(f\"  Message: {body}\")\n",
    "                replies = m.get('replies') or []\n",
    "                for reply in replies:\n",
    "                    rbody = reply.get('body', {}).get('content')\n",
    "                    print(f\"    Reply: {rbody}\")\n",
    "\n",
    "# 実行\n",
    "try:\n",
    "    get_teams_channel_messages(session)\n",
    "except Exception as e:\n",
    "    print(\"Teams チャネル/メッセージ取得中にエラー:\", e)"
   ]
  },
  {
   "cell_type": "code",
   "execution_count": null,
   "id": "449e819e",
   "metadata": {},
   "outputs": [],
   "source": [
    "# Teams 最近のチャット\n",
    "def get_recent_chats(session):\n",
    "    r = session.get(\"https://graph.microsoft.com/v1.0/me/chats\")\n",
    "    r.raise_for_status()\n",
    "    data = r.json()\n",
    "    print(\"[Teams Recent Chats]\")\n",
    "    for chat in data.get('value', []):\n",
    "        chat_id = chat.get('id')\n",
    "        topic = chat.get('topic') or '(No topic)'\n",
    "        print(f\"Chat: {topic} (ID: {chat_id})\")\n",
    "\n",
    "# 実行\n",
    "get_recent_chats(session)"
   ]
  },
  {
   "cell_type": "code",
   "execution_count": null,
   "id": "dcff1a70",
   "metadata": {},
   "outputs": [],
   "source": [
    "# Outlook 予定表\n",
    "def get_outlook_events(session):\n",
    "    r = session.get(\"https://graph.microsoft.com/v1.0/me/events\")\n",
    "    r.raise_for_status()\n",
    "    data = r.json()\n",
    "    print(\"[Outlook Events]\")\n",
    "    for ev in data.get('value', []):\n",
    "        subj = ev.get('subject')\n",
    "        start = ev.get('start', {}).get('dateTime')\n",
    "        end = ev.get('end', {}).get('dateTime')\n",
    "        print(f\"{subj}: {start} - {end}\")\n",
    "\n",
    "# 実行\n",
    "get_outlook_events(session)"
   ]
  },
  {
   "cell_type": "code",
   "execution_count": null,
   "id": "972b4140",
   "metadata": {},
   "outputs": [],
   "source": [
    "# Outlook 送信済みメール\n",
    "def get_outlook_sent_mails(session):\n",
    "    r = session.get(\"https://graph.microsoft.com/v1.0/me/mailFolders/sentitems/messages\")\n",
    "    r.raise_for_status()\n",
    "    data = r.json()\n",
    "    print(\"[Outlook Sent Mails]\")\n",
    "    for mail in data.get('value', []):\n",
    "        subj = mail.get('subject')\n",
    "        to_recipients = [rcp.get('emailAddress', {}).get('address') for rcp in mail.get('toRecipients', [])]\n",
    "        print(f\"To: {', '.join(filter(None, to_recipients))} | Subject: {subj}\")\n",
    "\n",
    "# 実行\n",
    "get_outlook_sent_mails(session)"
   ]
  }
 ],
 "metadata": {
  "kernelspec": {
   "display_name": "Python 3",
   "language": "python",
   "name": "python3"
  },
  "language_info": {
   "codemirror_mode": {
    "name": "ipython",
    "version": 3
   },
   "file_extension": ".py",
   "mimetype": "text/x-python",
   "name": "python",
   "nbconvert_exporter": "python",
   "pygments_lexer": "ipython3",
   "version": "3.12.10"
  },
  "polyglot_notebook": {
   "kernelInfo": {
    "defaultKernelName": "csharp",
    "items": [
     {
      "aliases": [],
      "name": "csharp"
     }
    ]
   }
  }
 },
 "nbformat": 4,
 "nbformat_minor": 5
}
